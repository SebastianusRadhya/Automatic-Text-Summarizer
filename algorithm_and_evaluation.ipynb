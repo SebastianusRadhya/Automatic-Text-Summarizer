{
 "cells": [
  {
   "cell_type": "markdown",
   "id": "25b5cad6",
   "metadata": {},
   "source": [
    "# Automatic Text Summarization Algorithm"
   ]
  },
  {
   "cell_type": "markdown",
   "id": "b7310234",
   "metadata": {},
   "source": [
    "##### Sebastianus Radhya, Frederick Gervaise Harianto"
   ]
  },
  {
   "cell_type": "code",
   "execution_count": 1,
   "id": "7fe3010a",
   "metadata": {},
   "outputs": [],
   "source": [
    "#NLTK Term Weights\n",
    "import nltk\n",
    "from nltk.corpus import stopwords\n",
    "from nltk.tokenize import word_tokenize, sent_tokenize\n",
    "import heapq  \n",
    "\n",
    "def generate_nltk(raw_text):\n",
    "    stopWords = set(stopwords.words(\"english\"))\n",
    "    word_frequencies = {}  \n",
    "    for word in nltk.word_tokenize(raw_text):  \n",
    "        if word not in stopWords:\n",
    "            if word not in word_frequencies.keys():\n",
    "                word_frequencies[word] = 1\n",
    "            else:\n",
    "                word_frequencies[word] += 1\n",
    "    \n",
    "    maximum_frequency = max(word_frequencies.values())\n",
    "    print(maximum_frequency)\n",
    "    for word in word_frequencies.keys():\n",
    "        word_frequencies[word] = (word_frequencies[word]/maximum_frequency)\n",
    "\n",
    "    sentence_list = nltk.sent_tokenize(raw_text)\n",
    "    sentence_scores = {}\n",
    "    for sent in sentence_list:\n",
    "        for word in nltk.word_tokenize(sent.lower()):\n",
    "            if word in word_frequencies.keys():\n",
    "                if len(sent.split(' ')) < 30:\n",
    "                    if sent not in sentence_scores.keys():\n",
    "                        sentence_scores[sent] = word_frequencies[word]\n",
    "                    else:\n",
    "                        sentence_scores[sent] += word_frequencies[word]\n",
    "\n",
    "    summary_sentences = heapq.nlargest(3, sentence_scores, key=sentence_scores.get)\n",
    "\n",
    "    summary = ' '.join(summary_sentences)  \n",
    "    return summary"
   ]
  },
  {
   "cell_type": "code",
   "execution_count": 2,
   "id": "5e53171f",
   "metadata": {},
   "outputs": [],
   "source": [
    "#Sumy LexRank\n",
    "import sumy\n",
    "from sumy.parsers.plaintext import PlaintextParser\n",
    "from sumy.nlp.tokenizers import Tokenizer\n",
    "from sumy.summarizers.lex_rank import LexRankSummarizer \n",
    "import heapq\n",
    "\n",
    "def generate_sumy(raw_text):\n",
    "    parser = PlaintextParser.from_string(raw_text,Tokenizer(\"english\"))\n",
    "    summarizer = LexRankSummarizer()\n",
    "    summary = summarizer(parser.document, 3)\n",
    "    summary_results = \" \".join(map(str, summary))\n",
    "    return summary_results"
   ]
  },
  {
   "cell_type": "code",
   "execution_count": 3,
   "id": "1ebc807d",
   "metadata": {},
   "outputs": [
    {
     "name": "stderr",
     "output_type": "stream",
     "text": [
      "c:\\Users\\sebas\\AppData\\Local\\Programs\\Python\\Python310\\lib\\site-packages\\torch\\_masked\\__init__.py:223: UserWarning: Failed to initialize NumPy: module compiled against API version 0xf but this version of numpy is 0xe (Triggered internally at  ..\\torch\\csrc\\utils\\tensor_numpy.cpp:68.)\n",
      "  example_input = torch.tensor([[-3, -2, -1], [0, 1, 2]])\n"
     ]
    }
   ],
   "source": [
    "#BART\n",
    "import transformers\n",
    "from transformers import BartTokenizer, BartForConditionalGeneration\n",
    "import torch\n",
    "\n",
    "if torch.cuda.is_available():\n",
    "   device = torch.device(\"cuda\")\n",
    "else:\n",
    "   device = torch.device(\"cuda\")\n",
    "\n",
    "def generate_bart(raw_text):\n",
    "    bart_model = BartForConditionalGeneration.from_pretrained(\"facebook/bart-large-cnn\").to(device)\n",
    "    bart_tokenizer = BartTokenizer.from_pretrained(\"facebook/bart-large-cnn\")\n",
    "    \n",
    "    input_text = ' '.join(raw_text.split())\n",
    "    input_tokenized = bart_tokenizer.encode(input_text, return_tensors='pt').to(device)\n",
    "    \n",
    "    summary_ids = bart_model.generate(input_tokenized,\n",
    "                                    num_beams = 4,\n",
    "                                    num_return_sequences = 1,\n",
    "                                    no_repeat_ngram_size = 2,\n",
    "                                    length_penalty = 1,\n",
    "                                    min_length = 0,\n",
    "                                    max_length = 128,\n",
    "                                    early_stopping = True)\n",
    "    \n",
    "    output = [bart_tokenizer.decode(g, skip_special_tokens=True, clean_up_tokenization_spaces=False) for g in summary_ids]\n",
    "    return \"\".join(output)"
   ]
  },
  {
   "cell_type": "code",
   "execution_count": 4,
   "id": "c539f76b",
   "metadata": {},
   "outputs": [
    {
     "name": "stderr",
     "output_type": "stream",
     "text": [
      "Reusing dataset cnn_dailymail (C:\\Users\\sebas\\.cache\\huggingface\\datasets\\cnn_dailymail\\3.0.0\\3.0.0\\1b3c71476f6d152c31c1730e83ccb08bcf23e348233f4fcc11e182248e6bf7de)\n",
      "100%|██████████| 3/3 [00:01<00:00,  2.99it/s]\n"
     ]
    }
   ],
   "source": [
    "from datasets import load_dataset\n",
    "raw_datasets = load_dataset(\"cnn_dailymail\", '3.0.0')"
   ]
  },
  {
   "cell_type": "markdown",
   "id": "d46c0891",
   "metadata": {},
   "source": [
    "#### BART Evaluation"
   ]
  },
  {
   "cell_type": "code",
   "execution_count": 5,
   "id": "3ca923e7",
   "metadata": {},
   "outputs": [],
   "source": [
    "reference = raw_datasets[\"validation\"][10]"
   ]
  },
  {
   "cell_type": "code",
   "execution_count": 6,
   "id": "5cbc540c",
   "metadata": {},
   "outputs": [],
   "source": [
    "reference_text = reference['article']"
   ]
  },
  {
   "cell_type": "code",
   "execution_count": 7,
   "id": "fba88d4f",
   "metadata": {},
   "outputs": [],
   "source": [
    "from rouge import Rouge \n",
    "rouge = Rouge()\n",
    "scores = rouge.get_scores(generate_bart(reference_text), reference['highlights'])"
   ]
  },
  {
   "cell_type": "code",
   "execution_count": 8,
   "id": "f82d9e56",
   "metadata": {},
   "outputs": [
    {
     "name": "stdout",
     "output_type": "stream",
     "text": [
      "[{'rouge-1': {'r': 1.0, 'p': 1.0, 'f': 0.999999995}, 'rouge-2': {'r': 1.0, 'p': 0.9642857142857143, 'f': 0.9818181768198347}, 'rouge-l': {'r': 1.0, 'p': 1.0, 'f': 0.999999995}}]\n"
     ]
    }
   ],
   "source": [
    "print(scores)"
   ]
  },
  {
   "cell_type": "code",
   "execution_count": 9,
   "id": "8effb158",
   "metadata": {},
   "outputs": [
    {
     "data": {
      "text/plain": [
       "'This page includes the show Transcript. Use the Transcript to help students with reading comprehension and vocabulary. At the bottom of the page, comment for a chance to be mentioned on CNN Student News.  You must be a teacher or a student age 13 or older to request a mention on the CNN student News Roll Call.'"
      ]
     },
     "execution_count": 9,
     "metadata": {},
     "output_type": "execute_result"
    }
   ],
   "source": [
    "generate_bart(reference_text)"
   ]
  },
  {
   "cell_type": "code",
   "execution_count": 10,
   "id": "a73507b8",
   "metadata": {},
   "outputs": [
    {
     "data": {
      "text/plain": [
       "'This page includes the show Transcript .\\nUse the Transcript to help students with reading comprehension and vocabulary .\\nAt the bottom of the page, comment for a chance to be mentioned on CNN Student News.  You must be a teacher or a student age 13 or older to request a mention on the CNN Student News Roll Call.'"
      ]
     },
     "execution_count": 10,
     "metadata": {},
     "output_type": "execute_result"
    }
   ],
   "source": [
    "reference['highlights']"
   ]
  },
  {
   "cell_type": "code",
   "execution_count": 11,
   "id": "2f91b08a",
   "metadata": {},
   "outputs": [
    {
     "name": "stdout",
     "output_type": "stream",
     "text": [
      "[{'rouge-1': {'r': 0.5333333333333333, 'p': 0.24242424242424243, 'f': 0.33333332903645835}, 'rouge-2': {'r': 0.21428571428571427, 'p': 0.08823529411764706, 'f': 0.1249999958680557}, 'rouge-l': {'r': 0.4666666666666667, 'p': 0.21212121212121213, 'f': 0.29166666236979166}}]\n"
     ]
    }
   ],
   "source": [
    "reference = raw_datasets[\"validation\"][4]\n",
    "reference_text = reference['article']\n",
    "from rouge import Rouge \n",
    "rouge = Rouge()\n",
    "scores = rouge.get_scores(generate_bart(reference_text), reference['highlights'])\n",
    "print(scores)"
   ]
  },
  {
   "cell_type": "code",
   "execution_count": 12,
   "id": "3b2fb8b3",
   "metadata": {},
   "outputs": [
    {
     "name": "stdout",
     "output_type": "stream",
     "text": [
      "[{'rouge-1': {'r': 0.7619047619047619, 'p': 0.48484848484848486, 'f': 0.5925925878395063}, 'rouge-2': {'r': 0.5454545454545454, 'p': 0.35294117647058826, 'f': 0.4285714238010204}, 'rouge-l': {'r': 0.7619047619047619, 'p': 0.48484848484848486, 'f': 0.5925925878395063}}]\n"
     ]
    }
   ],
   "source": [
    "reference = raw_datasets[\"validation\"][32]\n",
    "reference_text = reference['article']\n",
    "from rouge import Rouge \n",
    "rouge = Rouge()\n",
    "scores = rouge.get_scores(generate_bart(reference_text), reference['highlights'])\n",
    "print(scores)"
   ]
  },
  {
   "cell_type": "markdown",
   "id": "a8f423f6",
   "metadata": {},
   "source": [
    "### Rouge Score Average for BART\n",
    "#### Rouge-1\n",
    "Recall: 0.765\n",
    "Precision: 0.576\n",
    "F-Score: 0.642\n",
    "\n",
    "#### Rouge-2\n",
    "Recall: 0.5865\n",
    "Precision: 0.467\n",
    "F-Score: 0.512\n",
    "\n",
    "#### Rouge-L\n",
    "Recall: 0.743\n",
    "Precision: 0.566\n",
    "F-Score: 0.628"
   ]
  },
  {
   "cell_type": "markdown",
   "id": "cdd6a081",
   "metadata": {},
   "source": [
    "### NLTK Evaluation"
   ]
  },
  {
   "cell_type": "code",
   "execution_count": 13,
   "id": "7c9a55fb",
   "metadata": {},
   "outputs": [],
   "source": [
    "reference = raw_datasets[\"validation\"][10]"
   ]
  },
  {
   "cell_type": "code",
   "execution_count": 14,
   "id": "796554ab",
   "metadata": {},
   "outputs": [],
   "source": [
    "reference_text = reference['article']"
   ]
  },
  {
   "cell_type": "code",
   "execution_count": 15,
   "id": "ca9d73d5",
   "metadata": {},
   "outputs": [
    {
     "name": "stdout",
     "output_type": "stream",
     "text": [
      "13\n",
      "[{'rouge-1': {'r': 0.36585365853658536, 'p': 0.28846153846153844, 'f': 0.32258064023124067}, 'rouge-2': {'r': 0.16666666666666666, 'p': 0.14285714285714285, 'f': 0.1538461488757398}, 'rouge-l': {'r': 0.2682926829268293, 'p': 0.21153846153846154, 'f': 0.23655913485489663}}]\n"
     ]
    }
   ],
   "source": [
    "from rouge import Rouge \n",
    "rouge = Rouge()\n",
    "scores = rouge.get_scores(generate_nltk(reference_text), reference['highlights'])\n",
    "print(scores)"
   ]
  },
  {
   "cell_type": "code",
   "execution_count": 16,
   "id": "87d19780",
   "metadata": {},
   "outputs": [
    {
     "name": "stdout",
     "output_type": "stream",
     "text": [
      "13\n"
     ]
    },
    {
     "data": {
      "text/plain": [
       "\"For a chance to be mentioned on the next CNN Student News, comment on the bottom of this page with your school name, mascot, city and state. We're visiting Italy, Russia, the United Arab Emirates, and the Himalayan Mountains. Find out who's attempting to circumnavigate the globe in a plane powered partially by the sun, and explore the mysterious appearance of craters in northern Asia.\""
      ]
     },
     "execution_count": 16,
     "metadata": {},
     "output_type": "execute_result"
    }
   ],
   "source": [
    "generate_nltk(reference_text)"
   ]
  },
  {
   "cell_type": "code",
   "execution_count": 17,
   "id": "c6821b9e",
   "metadata": {},
   "outputs": [
    {
     "data": {
      "text/plain": [
       "'This page includes the show Transcript .\\nUse the Transcript to help students with reading comprehension and vocabulary .\\nAt the bottom of the page, comment for a chance to be mentioned on CNN Student News.  You must be a teacher or a student age 13 or older to request a mention on the CNN Student News Roll Call.'"
      ]
     },
     "execution_count": 17,
     "metadata": {},
     "output_type": "execute_result"
    }
   ],
   "source": [
    "reference['highlights']"
   ]
  },
  {
   "cell_type": "code",
   "execution_count": 18,
   "id": "da1f208e",
   "metadata": {},
   "outputs": [
    {
     "name": "stdout",
     "output_type": "stream",
     "text": [
      "30\n",
      "[{'rouge-1': {'r': 0.4666666666666667, 'p': 0.1076923076923077, 'f': 0.17499999695312507}, 'rouge-2': {'r': 0.14285714285714285, 'p': 0.02631578947368421, 'f': 0.04444444181728411}, 'rouge-l': {'r': 0.4666666666666667, 'p': 0.1076923076923077, 'f': 0.17499999695312507}}]\n"
     ]
    }
   ],
   "source": [
    "reference = raw_datasets[\"validation\"][4]\n",
    "reference_text = reference['article']\n",
    "from rouge import Rouge \n",
    "rouge = Rouge()\n",
    "scores = rouge.get_scores(generate_nltk(reference_text), reference['highlights'])\n",
    "print(scores)"
   ]
  },
  {
   "cell_type": "code",
   "execution_count": 19,
   "id": "2f663c74",
   "metadata": {},
   "outputs": [
    {
     "name": "stdout",
     "output_type": "stream",
     "text": [
      "12\n",
      "[{'rouge-1': {'r': 0.23809523809523808, 'p': 0.08928571428571429, 'f': 0.12987012590318783}, 'rouge-2': {'r': 0.0, 'p': 0.0, 'f': 0.0}, 'rouge-l': {'r': 0.23809523809523808, 'p': 0.08928571428571429, 'f': 0.12987012590318783}}]\n"
     ]
    }
   ],
   "source": [
    "reference = raw_datasets[\"validation\"][32]\n",
    "reference_text = reference['article']\n",
    "from rouge import Rouge \n",
    "rouge = Rouge()\n",
    "scores = rouge.get_scores(generate_nltk(reference_text), reference['highlights'])\n",
    "print(scores)"
   ]
  },
  {
   "cell_type": "markdown",
   "id": "5c55567f",
   "metadata": {},
   "source": [
    "### Rouge Score Average for NLTK\n",
    "#### Rouge-1\n",
    "Recall: 0.357\n",
    "Precision: 0.161\n",
    "F-Score: 0.209\n",
    "\n",
    "#### Rouge-2\n",
    "Recall: 0.103\n",
    "Precision: 0.056\n",
    "F-Score: 0.066\n",
    "\n",
    "#### Rouge-L\n",
    "Recall: 0.324\n",
    "Precision: 0.136\n",
    "F-Score: 0.181"
   ]
  },
  {
   "cell_type": "markdown",
   "id": "47c9cdc1",
   "metadata": {},
   "source": [
    "### Sumy Evaluation"
   ]
  },
  {
   "cell_type": "code",
   "execution_count": 20,
   "id": "bcf6d856",
   "metadata": {},
   "outputs": [
    {
     "name": "stdout",
     "output_type": "stream",
     "text": [
      "[{'rouge-1': {'r': 0.4146341463414634, 'p': 0.3617021276595745, 'f': 0.3863636313868802}, 'rouge-2': {'r': 0.18518518518518517, 'p': 0.1724137931034483, 'f': 0.17857142357780628}, 'rouge-l': {'r': 0.3902439024390244, 'p': 0.3404255319148936, 'f': 0.3636363586596075}}]\n"
     ]
    }
   ],
   "source": [
    "reference = raw_datasets[\"validation\"][10]\n",
    "reference_text = reference['article']\n",
    "from rouge import Rouge \n",
    "rouge = Rouge()\n",
    "scores = rouge.get_scores(generate_sumy(reference_text), reference['highlights'])\n",
    "print(scores)"
   ]
  },
  {
   "cell_type": "code",
   "execution_count": 21,
   "id": "0da06979",
   "metadata": {},
   "outputs": [
    {
     "data": {
      "text/plain": [
       "\"On this page you will find today's show Transcript and a place for you to request to be on the CNN Student News Roll Call. CNN Student News is created by a team of journalists who consider the Common Core State Standards, national standards in different subject areas, and state standards when producing the show. Thank you for using CNN Student News!\""
      ]
     },
     "execution_count": 21,
     "metadata": {},
     "output_type": "execute_result"
    }
   ],
   "source": [
    "generate_sumy(reference_text)"
   ]
  },
  {
   "cell_type": "code",
   "execution_count": 22,
   "id": "4f1230e9",
   "metadata": {},
   "outputs": [
    {
     "data": {
      "text/plain": [
       "'This page includes the show Transcript .\\nUse the Transcript to help students with reading comprehension and vocabulary .\\nAt the bottom of the page, comment for a chance to be mentioned on CNN Student News.  You must be a teacher or a student age 13 or older to request a mention on the CNN Student News Roll Call.'"
      ]
     },
     "execution_count": 22,
     "metadata": {},
     "output_type": "execute_result"
    }
   ],
   "source": [
    "reference['highlights']"
   ]
  },
  {
   "cell_type": "code",
   "execution_count": 23,
   "id": "1bc31f63",
   "metadata": {},
   "outputs": [
    {
     "name": "stdout",
     "output_type": "stream",
     "text": [
      "[{'rouge-1': {'r': 0.06666666666666667, 'p': 0.027777777777777776, 'f': 0.039215682122261106}, 'rouge-2': {'r': 0.0, 'p': 0.0, 'f': 0.0}, 'rouge-l': {'r': 0.06666666666666667, 'p': 0.027777777777777776, 'f': 0.039215682122261106}}]\n"
     ]
    }
   ],
   "source": [
    "reference = raw_datasets[\"validation\"][4]\n",
    "reference_text = reference['article']\n",
    "from rouge import Rouge \n",
    "rouge = Rouge()\n",
    "scores = rouge.get_scores(generate_sumy(reference_text), reference['highlights'])\n",
    "print(scores)"
   ]
  },
  {
   "cell_type": "code",
   "execution_count": 24,
   "id": "1f3e110b",
   "metadata": {},
   "outputs": [
    {
     "name": "stdout",
     "output_type": "stream",
     "text": [
      "[{'rouge-1': {'r': 0.5238095238095238, 'p': 0.25, 'f': 0.338461534087574}, 'rouge-2': {'r': 0.36363636363636365, 'p': 0.16, 'f': 0.22222221797839511}, 'rouge-l': {'r': 0.47619047619047616, 'p': 0.22727272727272727, 'f': 0.3076923033183432}}]\n"
     ]
    }
   ],
   "source": [
    "reference = raw_datasets[\"validation\"][32]\n",
    "reference_text = reference['article']\n",
    "from rouge import Rouge \n",
    "rouge = Rouge()\n",
    "scores = rouge.get_scores(generate_sumy(reference_text), reference['highlights'])\n",
    "print(scores)"
   ]
  },
  {
   "cell_type": "markdown",
   "id": "67ecd0b4",
   "metadata": {},
   "source": [
    "### Rouge Score Average for Sumy\n",
    "#### Rouge-1\n",
    "Recall: 0.335\n",
    "Precision: 0.213\n",
    "F-Score: 0.254\n",
    "\n",
    "#### Rouge-2\n",
    "Recall: 0.183\n",
    "Precision: 0.110\n",
    "F-Score: 0.134\n",
    "\n",
    "#### Rouge-L\n",
    "Recall: 0.311\n",
    "Precision: 0.198\n",
    "F-Score: 0.237"
   ]
  }
 ],
 "metadata": {
  "kernelspec": {
   "display_name": "Python 3.10.5 64-bit",
   "language": "python",
   "name": "python3"
  },
  "language_info": {
   "codemirror_mode": {
    "name": "ipython",
    "version": 3
   },
   "file_extension": ".py",
   "mimetype": "text/x-python",
   "name": "python",
   "nbconvert_exporter": "python",
   "pygments_lexer": "ipython3",
   "version": "3.10.5"
  },
  "vscode": {
   "interpreter": {
    "hash": "3ef525aed409cc5a13783047c8d4d090b051bbc20387ad523d849e44a70e3fe1"
   }
  }
 },
 "nbformat": 4,
 "nbformat_minor": 5
}
